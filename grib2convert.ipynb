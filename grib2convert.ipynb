{
 "cells": [
  {
   "cell_type": "code",
   "execution_count": 7,
   "metadata": {},
   "outputs": [],
   "source": [
    "import pygrib\n",
    "import pandas as pd\n",
    "\n",
    "# pygrib reference https://jswhit.github.io/pygrib/api.html?highlight=open#pygrib.open"
   ]
  },
  {
   "cell_type": "code",
   "execution_count": 8,
   "metadata": {},
   "outputs": [],
   "source": [
    "# CONFIG OPTIONS\n",
    "grib_file_path = '20241009T12Z_MSC_RAQDPS_PM2.5_Sfc_RLatLon0.09_PT000H.grib2'"
   ]
  },
  {
   "cell_type": "code",
   "execution_count": 9,
   "metadata": {},
   "outputs": [
    {
     "name": "stdout",
     "output_type": "stream",
     "text": [
      "Message 1:\n",
      "  Parameter: Mass density (concentration)\n",
      "  Level: 2\n",
      "  Data Type: heightAboveGround\n",
      "  Description: mdens\n",
      "  Valid Time: 2024-10-09 12:00:00\n",
      "----------------------------------------\n"
     ]
    }
   ],
   "source": [
    "# Open the GRIB2 file\n",
    "grib_file = pygrib.open(grib_file_path)\n",
    "\n",
    "# Iterate over each GRIB message and print parameter information\n",
    "for grb in grib_file:\n",
    "    print(f\"Message {grb.messagenumber}:\")\n",
    "    print(f\"  Parameter: {grb.parameterName}\")\n",
    "    print(f\"  Level: {grb.level}\")\n",
    "    print(f\"  Data Type: {grb.typeOfLevel}\")\n",
    "    print(f\"  Description: {grb.shortName}\")\n",
    "    print(f\"  Valid Time: {grb.validDate}\")\n",
    "    print(\"-\" * 40)\n",
    "    "
   ]
  },
  {
   "cell_type": "code",
   "execution_count": 10,
   "metadata": {},
   "outputs": [
    {
     "name": "stdout",
     "output_type": "stream",
     "text": [
      "1:Mass density:kg m**-3 (instant):rotated_ll:heightAboveGround:level 2 m:fcst time 0 hrs:from 202410091200\n",
      "Data successfully saved to output.csv\n"
     ]
    }
   ],
   "source": [
    "# Open grib2 file\n",
    "grib_file = pygrib.open(grib_file_path)\n",
    "\n",
    "# Extract data from the GRIB2 file (you can iterate over messages for multiple parameters)\n",
    "# In this case the only parameter is Mass density (concentration)\n",
    "grb = grib_file.message(1)\n",
    "\n",
    "print(grb)  # Print out parameter details\n",
    "\n",
    "# Extract data\n",
    "cons = grb.values  # Gets value for concentration parameter\n",
    "lats, lons = grb.latlons()  # Get latitude and longitude coordinates\n",
    "\n",
    "# Flatten the arrays to put into a DataFrame\n",
    "flattened_data = {\n",
    "    'latitude': lats.flatten(),\n",
    "    'longitude': lons.flatten(),\n",
    "    'concentration': cons.flatten()\n",
    "}\n",
    "df = pd.DataFrame(flattened_data)\n",
    "\n",
    "# Save to CSV file\n",
    "csv_file = 'output.csv'\n",
    "df.to_csv(csv_file, index=False)\n",
    "\n",
    "print(f\"Data successfully saved to {csv_file}\")"
   ]
  },
  {
   "cell_type": "code",
   "execution_count": null,
   "metadata": {},
   "outputs": [],
   "source": []
  }
 ],
 "metadata": {
  "kernelspec": {
   "display_name": "Python 3",
   "language": "python",
   "name": "python3"
  },
  "language_info": {
   "codemirror_mode": {
    "name": "ipython",
    "version": 3
   },
   "file_extension": ".py",
   "mimetype": "text/x-python",
   "name": "python",
   "nbconvert_exporter": "python",
   "pygments_lexer": "ipython3",
   "version": "3.10.12"
  }
 },
 "nbformat": 4,
 "nbformat_minor": 2
}
