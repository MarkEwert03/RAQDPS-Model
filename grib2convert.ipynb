{
 "cells": [
  {
   "cell_type": "code",
   "execution_count": 44,
   "metadata": {},
   "outputs": [],
   "source": [
    "import pygrib\n",
    "import pandas as pd\n",
    "import os\n",
    "import requests\n",
    "from datetime import datetime\n",
    "\n",
    "# pygrib reference https://jswhit.github.io/pygrib/api.html?highlight=open#pygrib.open\n",
    "# RAQDPS reference https://eccc-msc.github.io/open-data/msc-data/nwp_raqdps/readme_raqdps-datamart_en/"
   ]
  },
  {
   "cell_type": "code",
   "execution_count": 45,
   "metadata": {},
   "outputs": [],
   "source": [
    "# CONFIG OPTIONS\n",
    "delete_file_after = True # decides whether or not to delete the downloaded file after\n",
    "file_type = \"T12Z_MSC_RAQDPS_PM2.5_Sfc_RLatLon0.09_PT000H\" # type of file for desired data\n",
    "start_hour = \"12\" # model run start, in UTC [00, 12]\n",
    "forecast = \"000\" # forecast hour [000, 001, 002, ..., 072]\n"
   ]
  },
  {
   "cell_type": "code",
   "execution_count": 46,
   "metadata": {},
   "outputs": [
    {
     "name": "stdout",
     "output_type": "stream",
     "text": [
      "grib_url = https://dd.weather.gc.ca/model_raqdps/10km/grib2/12/000/20241009T12Z_MSC_RAQDPS_PM2.5_Sfc_RLatLon0.09_PT000H.grib2\n",
      "GRIB2 file successfully downloaded as 20241009T12Z_MSC_RAQDPS_PM2.5_Sfc_RLatLon0.09_PT000H.grib2\n"
     ]
    }
   ],
   "source": [
    "# Get the current date\n",
    "current_date = datetime.now()\n",
    "current_year = f\"{current_date.year:04d}\" # year as the string YYYY\n",
    "current_month = f\"{current_date.month:02d}\" # month as the string MM\n",
    "current_day = f\"{current_date.day:02d}\" # day as the string DD\n",
    "\n",
    "base_url = \"https://dd.weather.gc.ca/model_raqdps/10km/grib2\"\n",
    "file_name = current_year + current_month + current_day + file_type + \".grib2\"\n",
    "\n",
    "# URL of the GRIB2 file\n",
    "grib_url = base_url + '/' + start_hour + '/' + forecast + '/' + file_name\n",
    "print(f\"grib_url = {grib_url}\")\n",
    "\n",
    "# Download the file\n",
    "response = requests.get(grib_url)\n",
    "\n",
    "# Check if response was succesful\n",
    "if response.status_code == 200:\n",
    "    # Success - Save the file locally\n",
    "    grib_file = file_name # saves the downloaded file with the same name as the grib file\n",
    "    with open(grib_file, 'wb') as f:\n",
    "        f.write(response.content)\n",
    "    print(f\"GRIB2 file successfully downloaded as {grib_file}\")\n",
    "else:\n",
    "    # Error occured\n",
    "    print(f\"Failed to download the file. Status code is {response.status_code}\")\n",
    "    exit()"
   ]
  },
  {
   "cell_type": "code",
   "execution_count": 47,
   "metadata": {},
   "outputs": [
    {
     "name": "stdout",
     "output_type": "stream",
     "text": [
      "Message 1:\n",
      "  Parameter: Mass density (concentration)\n",
      "  Level: 2\n",
      "  Data Type: heightAboveGround\n",
      "  Description: mdens\n",
      "  Valid Time: 2024-10-09 12:00:00\n",
      "----------------------------------------\n"
     ]
    }
   ],
   "source": [
    "# Open the GRIB2 file\n",
    "grbs = pygrib.open(grib_file)\n",
    "\n",
    "# Iterate over each GRIB message and print parameter information\n",
    "for grb in grbs:\n",
    "    print(f\"Message {grb.messagenumber}:\")\n",
    "    print(f\"  Parameter: {grb.parameterName}\")\n",
    "    print(f\"  Level: {grb.level}\")\n",
    "    print(f\"  Data Type: {grb.typeOfLevel}\")\n",
    "    print(f\"  Description: {grb.shortName}\")\n",
    "    print(f\"  Valid Time: {grb.validDate}\")\n",
    "    print(\"-\" * 40)\n",
    "    "
   ]
  },
  {
   "cell_type": "code",
   "execution_count": 48,
   "metadata": {},
   "outputs": [
    {
     "name": "stdout",
     "output_type": "stream",
     "text": [
      "parameter details: 1:Mass density:kg m**-3 (instant):rotated_ll:heightAboveGround:level 2 m:fcst time 0 hrs:from 202410091200\n",
      "Data successfully saved to output.csv\n",
      "GRIB2 file 20241009T12Z_MSC_RAQDPS_PM2.5_Sfc_RLatLon0.09_PT000H.grib2 successfully deleted\n"
     ]
    }
   ],
   "source": [
    "# Open GRIB2 file\n",
    "grbs = pygrib.open(grib_file)\n",
    "\n",
    "# Extract data from the GRIB2 file (you can iterate over messages for multiple parameters)\n",
    "# In this case the only parameter is Mass density (concentration)\n",
    "grb = grbs.message(1)\n",
    "print(f\"parameter details: {grb}\")  # Print out parameter details\n",
    "\n",
    "# Extract data\n",
    "cons = grb.values  # Gets value for concentration parameter\n",
    "lats, lons = grb.latlons()  # Get latitude and longitude coordinates\n",
    "\n",
    "# Flatten the arrays to put into a DataFrame\n",
    "flattened_data = {\n",
    "    'latitude': lats.flatten(),\n",
    "    'longitude': lons.flatten(),\n",
    "    'concentration': cons.flatten()\n",
    "}\n",
    "df = pd.DataFrame(flattened_data)\n",
    "\n",
    "# Save to CSV file\n",
    "csv_file = 'output.csv'\n",
    "df.to_csv(csv_file, index=False)\n",
    "\n",
    "print(f\"Data successfully saved to {csv_file}\")\n",
    "\n",
    "# Deletes the downloaded GRIB2 file if delete_file_after is True\n",
    "if delete_file_after:\n",
    "    os.remove(grib_file)\n",
    "    print(f\"GRIB2 file {grib_file} successfully deleted\")"
   ]
  },
  {
   "cell_type": "code",
   "execution_count": null,
   "metadata": {},
   "outputs": [],
   "source": []
  }
 ],
 "metadata": {
  "kernelspec": {
   "display_name": "Python 3",
   "language": "python",
   "name": "python3"
  },
  "language_info": {
   "codemirror_mode": {
    "name": "ipython",
    "version": 3
   },
   "file_extension": ".py",
   "mimetype": "text/x-python",
   "name": "python",
   "nbconvert_exporter": "python",
   "pygments_lexer": "ipython3",
   "version": "3.10.12"
  }
 },
 "nbformat": 4,
 "nbformat_minor": 2
}
